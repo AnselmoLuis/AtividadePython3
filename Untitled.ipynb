{
 "cells": [
  {
   "cell_type": "markdown",
   "metadata": {},
   "source": [
    "1 Faça um Programa que peça o raio de um círculo, calcule e mostre sua área."
   ]
  },
  {
   "cell_type": "code",
   "execution_count": 5,
   "metadata": {},
   "outputs": [
    {
     "name": "stdout",
     "output_type": "stream",
     "text": [
      "Digite o raio do circulo2\n",
      "A area do circulo é 12.56\n"
     ]
    }
   ],
   "source": [
    "raio = float(input(\"Digite o raio do circulo\"))\n",
    "area = raio * raio * 3.14\n",
    "print(\"A area do circulo é {}\".format(area))"
   ]
  },
  {
   "cell_type": "markdown",
   "metadata": {},
   "source": [
    "2 Faça um Programa que calcule a área de um quadrado, em seguida mostre o dobro\n",
    "desta área para o usuário."
   ]
  },
  {
   "cell_type": "code",
   "execution_count": null,
   "metadata": {},
   "outputs": [],
   "source": [
    "quadrado = float(input(\"Digite o lado do quadrado:\"))\n",
    "area = quadrado * quadrado\n",
    "dobro = area * area\n",
    "print(\"A area do quadrado é {}, o drobro da area é {}:\".format(area, dobro))"
   ]
  },
  {
   "cell_type": "markdown",
   "metadata": {},
   "source": [
    "3 Faça um Programa que pergunte quanto você ganha por hora e o número de horas\n",
    "trabalhadas no mês. Calcule e mostre o total do seu salário no referido mês."
   ]
  },
  {
   "cell_type": "code",
   "execution_count": null,
   "metadata": {},
   "outputs": [],
   "source": [
    "hora = float(input(\"Digite quanto você ganha por hora:\"))\n",
    "mes = float(input(\"Digite o tanto de horas trabalhadas no mes:\"))\n",
    "salario = horas * mes\n",
    "print(\"O salario referente ao mes foi de {}\".format(salario))"
   ]
  },
  {
   "cell_type": "markdown",
   "metadata": {},
   "source": [
    "4 Faça um Programa que peça a temperatura em graus Farenheit, transforme e\n",
    "mostre a temperatura em graus Celsius. C = (5 * (F-32) / 9)."
   ]
  },
  {
   "cell_type": "code",
   "execution_count": 6,
   "metadata": {},
   "outputs": [
    {
     "name": "stdout",
     "output_type": "stream",
     "text": [
      "Digite a temperatura em Farenheit:43\n",
      "A temperatura 43.0Fº em celsius é 6.111111111111111\n"
     ]
    }
   ],
   "source": [
    "temperatura = float(input(\"Digite a temperatura em Farenheit:\"))\n",
    "c = 5 * (temperatura - 32 ) / 9\n",
    "print(\"A temperatura {}Fº em celsius é {}\".format(temperatura, c))"
   ]
  },
  {
   "cell_type": "markdown",
   "metadata": {},
   "source": [
    "5 Faça um Programa que peça a temperatura em graus Celsius, transforme e mostre\n",
    "em graus Farenheit."
   ]
  },
  {
   "cell_type": "code",
   "execution_count": null,
   "metadata": {},
   "outputs": [],
   "source": [
    "temperatura = float(input(\"Digite a temperatura em graus Celsius\"))\n",
    "f = (temperatura – 32) x 5 / 9\n",
    "print(\"A temperatura {}C° em Farenheit{}\".format(f))"
   ]
  },
  {
   "cell_type": "markdown",
   "metadata": {},
   "source": [
    "6 Faça um Programa que peça 2 números inteiros e um número real. Calcule e\n",
    "mostre:\n",
    "- o produto do dobro do primeiro com metade do segundo .\n",
    "- a soma do triplo do primeiro com o terceiro.\n",
    "- o terceiro elevado ao cubo."
   ]
  },
  {
   "cell_type": "code",
   "execution_count": null,
   "metadata": {},
   "outputs": [],
   "source": [
    "n1 = float(input(\"Digite um numero inteiro\"))\n",
    "n2 = float(input(\"Digite outro numero inteiro\"))\n",
    "n3 = float(input(\"Digite um numero real\"))\n",
    "\n",
    "r1 = n1 * 2 * (n2 / 2)\n",
    "print(\"O produto do dobro do primeiro com a metade do segundo é {}\".format(r1))\n",
    "\n",
    "r2 = n1 * 3 + n3\n",
    "print(\"A soma do triplo do primeiro com o terceiro é {}\".format(r2))\n",
    "\n",
    "r3 = n3 ** 3\n",
    "print(\"O terceiro elevado ao cubo é {}\".format(r3))"
   ]
  },
  {
   "cell_type": "markdown",
   "metadata": {},
   "source": [
    "7 João Papo-de-Pescador, homem de bem, comprou um microcomputador para\n",
    "controlar o rendimento diário de seu trabalho. Toda vez que ele traz um peso de\n",
    "peixes maior que o estabelecido pelo regulamento de pesca do estado de São Paulo\n",
    "(50 quilos) deve pagar uma multa de R$ 4,00 por quilo excedente. João precisa que\n",
    "você faça um programa que leia a variável peso (peso de peixes) e verifique se há \n",
    "excesso. Se houver, gravar na variável excesso e na variável multa o valor da multa\n",
    "que João deverá pagar. Caso contrário mostrar tais variáveis com o conteúdo ZERO."
   ]
  },
  {
   "cell_type": "code",
   "execution_count": null,
   "metadata": {},
   "outputs": [],
   "source": [
    "peixe = float(input(\"Digite o peso dos peixes:\"))\n",
    "excesso = 0\n",
    "multa = 0\n",
    "if (peixe > 50):\n",
    "    excesso = peixe - 50\n",
    "    multa = excesso * 4\n",
    "    \n",
    "print(\"o peso do peixe é {}, peso excedido {}, e a multa do peso é {}\".format(peixe, excesso, multa))"
   ]
  },
  {
   "cell_type": "markdown",
   "metadata": {},
   "source": [
    "8 Faça um Programa que pergunte quanto você ganha por hora e o número de horas\n",
    "trabalhadas no mês. Calcule e mostre o total do seu salário no referido mês,\n",
    "sabendo-se que são descontados 11% para o Imposto de Renda, 8% para o INSS e 5%\n",
    "para o sindicato, faça um programa que nos dê:\n",
    "- salário bruto.\n",
    "- quanto pagou ao INSS.\n",
    "- quanto pagou ao sindicato.\n",
    "- o salário líquido.\n",
    "- calcule os descontos e o salário líquido, conforme a tabela abaixo:\n",
    " + Salário Bruto : R$\n",
    " - IR (11%) : R$\n",
    " - INSS (8%) : R$\n",
    " - Sindicato ( 5%) : R$\n",
    " = Salário Liquido : R$\n",
    "Obs.: Salário Bruto - Descontos = Salário Líquido"
   ]
  },
  {
   "cell_type": "code",
   "execution_count": 8,
   "metadata": {},
   "outputs": [
    {
     "name": "stdout",
     "output_type": "stream",
     "text": [
      "Digite o valor de hora:5\n",
      "Digite a hora trabalhadas do mes:5\n",
      "Salario bruto R$25.0\n",
      "Quanto pagou ao INSS R$2.53\n",
      "Quanto pagou no sindicato R$2.5189999999999997\n",
      "O salario Liquido R$0.011000000000000001\n"
     ]
    }
   ],
   "source": [
    "hora = float(input(\"Digite o valor de hora:\"))\n",
    "horasTrabalhada = float(input(\"Digite a hora trabalhadas do mes:\"))\n",
    "\n",
    "salarioTotal = hora * horasTrabalhada\n",
    "impostoDeRenda = salarioTotal * 0.11\n",
    "impostoRenda = salarioTotal - impostoDeRenda\n",
    "inss = impostoDeRenda * 0.08\n",
    "impostoInss = impostoDeRenda - inss\n",
    "sindicato = inss * 0.05\n",
    "impostoSindicato = impostoInss - sindicato\n",
    "liquido = salrio total - impostoInss - impostoSindicato - sindicato\n",
    "\n",
    "print(\"Salario bruto R${}\".format(salarioTotal))\n",
    "print(\"Quanto pagou ao INSS R${}\".format(impostoInss))\n",
    "print(\"Quanto pagou no sindicato R${}\".format(impostoSindicato))\n",
    "print(\"O salario Liquido R${}\". format(liquido))"
   ]
  },
  {
   "cell_type": "markdown",
   "metadata": {},
   "source": [
    "9 Faça um programa que leia 2 strings e informe o conteúdo delas seguido do seu\n",
    "comprimento. Informe também se as duas strings possuem o mesmo comprimento e\n",
    "são iguais ou diferentes no conteúdo.\n",
    "Exemplo:\n",
    "String 1: Brasil Hexa 2018\n",
    "String 2: Brasil! Hexa 2018!\n",
    "Tamanho de \"Brasil Hexa 2018\": 16 caracteres\n",
    "Tamanho de \"Brasil! Hexa 2018!\": 18 caracteres\n",
    "As duas strings são de tamanhos diferentes.\n",
    "As duas strings possuem conteúdo diferente."
   ]
  },
  {
   "cell_type": "code",
   "execution_count": null,
   "metadata": {},
   "outputs": [],
   "source": [
    "str1 = input(\"Digite uma string:\")\n",
    "str2 = input(\"Digite outra string:\")\n",
    "\n",
    "tamanho1 = len(str1)\n",
    "tamanha2 = len(str2)\n",
    "\n",
    "if(str1 == str2):\n",
    "    print(\"As duas strings são de tamanhos diferentes\")\n",
    "    \n",
    "else:\n",
    "    print(\"As duas string sao iguais\")\n",
    "\n",
    "print(\"string1 {}\".format(str1))\n",
    "print(\"string2 {}\".format(str2))\n",
    "print('tamanho de \"{}\": {}caracteres'.format(str1, tamanho1))\n",
    "print('tamanho de \"{}\": {}caracteres'.format(str2, tamanho2))"
   ]
  },
  {
   "cell_type": "markdown",
   "metadata": {},
   "source": [
    "10 Faça um programa que permita ao usuário digitar o seu nome e em seguida\n",
    "mostre o nome do usuário de trás para frente utilizando somente letras maiúsculas.\n",
    "Dica: lembre−se que ao informar o nome o usuário pode digitar letras maiúsculas ou\n",
    "minúsculas. Observação: não use loops."
   ]
  },
  {
   "cell_type": "code",
   "execution_count": null,
   "metadata": {},
   "outputs": [],
   "source": [
    "nome = input(\"Digite seu nome completo:\")\n",
    "contrario = nome.upper()\n",
    "print (contrario)"
   ]
  },
  {
   "cell_type": "markdown",
   "metadata": {},
   "source": [
    "11 Faça um programa que solicite a data de nascimento (dd/mm/aaaa) do usuário e\n",
    "imprima a data com o nome do mês por extenso.\n",
    "Data de Nascimento: 29/10/1973\n",
    "Você nasceu em 29 de Outubro de 1973.\n",
    "Obs.: Não use desvio condicional nem loops"
   ]
  },
  {
   "cell_type": "code",
   "execution_count": null,
   "metadata": {},
   "outputs": [],
   "source": [
    "data = input(\"Digite sua data de aniversario, 28/06/2000\")\n",
    "meses = [\"janeiro\",\n",
    "         \"fevereiro\",\n",
    "         \"março\",\n",
    "         \"abril\",\n",
    "         \"maio\",\n",
    "         \"junho\",\n",
    "         \"julho\",\n",
    "         \"agosto\",\n",
    "         \"setembro\",\n",
    "         \"outubro\",\n",
    "         \"novembro\",\n",
    "         \"dezembro\"]\n",
    "\n",
    "print (data.split(\"/\")[0],\n",
    "       \"de\",\n",
    "       meses[(int(data.split(\"/\")[1])-1)],\n",
    "       \"de\",\n",
    "       data.split(\"/\")[2])\n"
   ]
  },
  {
   "cell_type": "markdown",
   "metadata": {},
   "source": [
    "12 Leet é uma forma de se escrever o alfabeto latino usando outros símbolos em\n",
    "lugar das letras, como números por exemplo. A própria palavra leet admite muitas\n",
    "variações, como l33t ou 1337. O uso do leet reflete uma subcultura relacionada ao\n",
    "mundo dos jogos de computador e internet, sendo muito usada para confundir os\n",
    "iniciantes e afirmar-se como parte de um grupo. Pesquise sobre as principais formas\n",
    "de traduzir as letras. Depois, faça um programa que peça uma texto e transforme-o\n",
    "para a grafia leet speak.\n",
    "Desafio: não use loops nem desvios condicionais."
   ]
  },
  {
   "cell_type": "code",
   "execution_count": null,
   "metadata": {},
   "outputs": [],
   "source": []
  }
 ],
 "metadata": {
  "kernelspec": {
   "display_name": "Python 3",
   "language": "python",
   "name": "python3"
  },
  "language_info": {
   "codemirror_mode": {
    "name": "ipython",
    "version": 3
   },
   "file_extension": ".py",
   "mimetype": "text/x-python",
   "name": "python",
   "nbconvert_exporter": "python",
   "pygments_lexer": "ipython3",
   "version": "3.8.0"
  }
 },
 "nbformat": 4,
 "nbformat_minor": 4
}
